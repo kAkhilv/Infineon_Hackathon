{
 "cells": [
  {
   "cell_type": "code",
   "execution_count": 1,
   "id": "91ba5196",
   "metadata": {},
   "outputs": [],
   "source": [
    "import numpy as np\n",
    "import matplotlib.pyplot as plt\n",
    "import pandas as pd\n",
    "import sklearn\n",
    "from sklearn import datasets\n",
    "from sklearn import svm\n",
    "from sklearn.model_selection import train_test_split\n",
    "from sklearn import metrics\n",
    "import random\n",
    "from sklearn.ensemble import AdaBoostClassifier\n",
    "    "
   ]
  },
  {
   "cell_type": "code",
   "execution_count": 2,
   "id": "3e0793f6",
   "metadata": {},
   "outputs": [],
   "source": [
    "def svm_rbf(x,y):\n",
    "    \"\"\"\n",
    "    Training of a Non linear Support Vector Machine Model to classify signals received from a Human Entity as Quasistatic(represented as 0 or s) or Dynamic(represented as 1 or d) \n",
    "    \"\"\"\n",
    "    x_train, x_test, y_train, y_test = train_test_split(x.T, y.T,test_size=0.20,random_state=None) # 80% training and 20% test\n",
    "    clf1 = svm.SVC(kernel='rbf',C=500) \n",
    "    model=clf1.fit(x_train, y_train)\n",
    "\n",
    "    y_pred = model.predict(x_test)\n",
    "\n",
    "    print(\"Accuracy of RBF SVC:\",metrics.accuracy_score(y_test, y_pred))\n",
    "    print(\"Precision:\",metrics.precision_score(y_test, y_pred)) # Precision = (TruePositive/(TruePositive+FalsePositive))\n",
    "    print(\"Recall:\",metrics.recall_score(y_test, y_pred)) # Recall = (TruePositive/(TruePositive+FalseNegative))\n",
    "    print(\"\")\n",
    "    return None"
   ]
  },
  {
   "cell_type": "code",
   "execution_count": 3,
   "id": "99c02870",
   "metadata": {},
   "outputs": [],
   "source": [
    "def svm_rbf_validate(x,y,validation,test_case):\n",
    "    \"\"\"\n",
    "    Test Validation of Non Linear SVM Model by using unlabelled data and the model classifies into Static scenario or Dynamic scenario\n",
    "    \"\"\"\n",
    "    #frames=validation.shape[0]\n",
    "    print(\"Validation Test Result is:\")\n",
    "\n",
    "    x_train, x_test, y_train, y_test = train_test_split(x.T, y.T,test_size=0.20,random_state=None) # 80% training and 20% test\n",
    "    clf1 = svm.SVC(kernel='rbf',C=5000) \n",
    "    clf1.fit(x_train, y_train)\n",
    "    \n",
    "    y_validation = clf1.predict(validation)\n",
    "    \n",
    "    if test_case==\"static\":\n",
    "    # In case of static validation case\n",
    "        false_values1=np.count_nonzero(y_validation)                            #number of 1s\n",
    "        true_values1=y_validation.size-np.count_nonzero(y_validation)           #number of 0s\n",
    "        print(\"Accuracy:\",true_values1/(true_values1+false_values1))        \n",
    "    elif test_case==\"dynamic\":\n",
    "    #In case of dynamic validation case\n",
    "        true_values2=np.count_nonzero(y_validation)                             #number of 1s\n",
    "        false_values2=y_validation.size-np.count_nonzero(y_validation)          #number of 0s\n",
    "        print(\"Accuracy:\",true_values2/(true_values2+false_values2))\n",
    "\n",
    "    return None\n"
   ]
  },
  {
   "cell_type": "raw",
   "id": "33bdde6d",
   "metadata": {},
   "source": [
    "both_xls=pd.read_excel(r\"Master Training Data_1500_08052022.xlsx\")    #Reading of Doppler Data\n",
    "both_xls=both_xls.to_numpy()\n",
    "x=both_xls.T[:-1]\n",
    "y=both_xls.T[-1]\n"
   ]
  },
  {
   "cell_type": "code",
   "execution_count": 4,
   "id": "6f6e0ecd",
   "metadata": {},
   "outputs": [],
   "source": [
    "both_xls=pd.read_excel(r\"Master_File_RangeFFT-2200_08052022.xlsx\")    #Reading of Range FFT data\n",
    "both_xls=both_xls.to_numpy()\n",
    "x=both_xls.T[:-1]\n",
    "y=both_xls.T[-1]"
   ]
  },
  {
   "cell_type": "code",
   "execution_count": 5,
   "id": "6f64bbdb",
   "metadata": {},
   "outputs": [
    {
     "name": "stdout",
     "output_type": "stream",
     "text": [
      "Accuracy of RBF SVC: 0.959866220735786\n",
      "Precision: 0.9555555555555556\n",
      "Recall: 0.9678456591639871\n",
      "\n"
     ]
    }
   ],
   "source": [
    "svm_rbf(x, y)                                                         #Training and Testing of Data"
   ]
  },
  {
   "cell_type": "code",
   "execution_count": 6,
   "id": "10489f6d",
   "metadata": {},
   "outputs": [],
   "source": [
    "validation_s=pd.read_excel(r\"Validation_Static_Data_2200_08052022.xlsx\")\n",
    "validation_s=validation_s.to_numpy()"
   ]
  },
  {
   "cell_type": "code",
   "execution_count": 7,
   "id": "b022cbef",
   "metadata": {},
   "outputs": [
    {
     "name": "stdout",
     "output_type": "stream",
     "text": [
      "Validation Test Result is:\n",
      "Accuracy: 0.9797979797979798\n"
     ]
    }
   ],
   "source": [
    " svm_rbf_validate(x,y,validation_s,\"static\")                           # Validation of Static Case"
   ]
  },
  {
   "cell_type": "code",
   "execution_count": 8,
   "id": "396dff8e",
   "metadata": {},
   "outputs": [],
   "source": [
    "validation_d=pd.read_excel(r\"Validation_Dynamic_Data_2200_08052022.xlsx\")\n",
    "validation_d=validation_d.to_numpy()"
   ]
  },
  {
   "cell_type": "code",
   "execution_count": 9,
   "id": "43fcb900",
   "metadata": {},
   "outputs": [
    {
     "name": "stdout",
     "output_type": "stream",
     "text": [
      "Validation Test Result is:\n",
      "Accuracy: 0.98989898989899\n"
     ]
    }
   ],
   "source": [
    "svm_rbf_validate(x,y,validation_d,\"dynamic\")                           # Validation of Dynamic Case"
   ]
  },
  {
   "cell_type": "code",
   "execution_count": null,
   "id": "07994e56",
   "metadata": {},
   "outputs": [],
   "source": []
  }
 ],
 "metadata": {
  "kernelspec": {
   "display_name": "Python 3 (ipykernel)",
   "language": "python",
   "name": "python3"
  },
  "language_info": {
   "codemirror_mode": {
    "name": "ipython",
    "version": 3
   },
   "file_extension": ".py",
   "mimetype": "text/x-python",
   "name": "python",
   "nbconvert_exporter": "python",
   "pygments_lexer": "ipython3",
   "version": "3.9.7"
  }
 },
 "nbformat": 4,
 "nbformat_minor": 5
}
